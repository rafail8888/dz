{
  "nbformat": 4,
  "nbformat_minor": 0,
  "metadata": {
    "colab": {
      "provenance": []
    },
    "kernelspec": {
      "name": "python3",
      "display_name": "Python 3"
    },
    "language_info": {
      "name": "python"
    }
  },
  "cells": [
    {
      "cell_type": "markdown",
      "source": [
        "***Задача 1***"
      ],
      "metadata": {
        "id": "RjVtHBHmsKFm"
      }
    },
    {
      "cell_type": "markdown",
      "source": [],
      "metadata": {
        "id": "eRh1eWHywFh6"
      }
    },
    {
      "cell_type": "code",
      "source": [
        "import numpy as np"
      ],
      "metadata": {
        "id": "_88MCP-WsL0k"
      },
      "execution_count": null,
      "outputs": []
    },
    {
      "cell_type": "code",
      "source": [
        "a = np.matrix([[1,2,1],[-2,1,1]])\n",
        "b = np.matrix([[3,1],[1,0],[2,4]])\n",
        "c = np.matrix([[-2,2],[1,-1],[1,2]])"
      ],
      "metadata": {
        "id": "H5X3Fnn3sWsO"
      },
      "execution_count": null,
      "outputs": []
    },
    {
      "cell_type": "markdown",
      "source": [
        "А+2B"
      ],
      "metadata": {
        "id": "j_CuSjjauc9H"
      }
    },
    {
      "cell_type": "code",
      "source": [
        "try:\n",
        "  print(a+2*b)\n",
        "except:\n",
        "  try:\n",
        "    print(2+np.transpose(2*b))\n",
        "  except(Exception) as e:\n",
        "    print(str(e))"
      ],
      "metadata": {
        "colab": {
          "base_uri": "https://localhost:8080/"
        },
        "id": "_5iw7cZ8uhgW",
        "outputId": "64e4b5e3-727e-4c67-9807-c903525f7828"
      },
      "execution_count": null,
      "outputs": [
        {
          "output_type": "stream",
          "name": "stdout",
          "text": [
            "[[ 8  4  6]\n",
            " [ 4  2 10]]\n"
          ]
        }
      ]
    },
    {
      "cell_type": "markdown",
      "source": [
        "B+2C"
      ],
      "metadata": {
        "id": "tpZkfTtYvugz"
      }
    },
    {
      "cell_type": "code",
      "source": [
        "try:\n",
        "  print(b+2*c)\n",
        "except:\n",
        "  try:\n",
        "    print(b+np.transpose(2*c))\n",
        "  except(Exception) as e:\n",
        "    print(str(e))"
      ],
      "metadata": {
        "colab": {
          "base_uri": "https://localhost:8080/"
        },
        "id": "MWFPkgW3v1r7",
        "outputId": "3386b10d-e22f-4ea3-d035-c2c84e2fa754"
      },
      "execution_count": null,
      "outputs": [
        {
          "output_type": "stream",
          "name": "stdout",
          "text": [
            "[[-1  5]\n",
            " [ 3 -2]\n",
            " [ 4  8]]\n"
          ]
        }
      ]
    },
    {
      "cell_type": "markdown",
      "source": [
        "***Задача 2***"
      ],
      "metadata": {
        "id": "x0xbkSAnv8UX"
      }
    },
    {
      "cell_type": "code",
      "source": [
        "r = np.zeros(shape = (8, 8), dtype=int)\n",
        "r"
      ],
      "metadata": {
        "colab": {
          "base_uri": "https://localhost:8080/"
        },
        "id": "Xe6ExNvLwJGG",
        "outputId": "40ba8d45-8237-4f00-e9b2-d842f87b90a6"
      },
      "execution_count": null,
      "outputs": [
        {
          "output_type": "execute_result",
          "data": {
            "text/plain": [
              "array([[0, 0, 0, 0, 0, 0, 0, 0],\n",
              "       [0, 0, 0, 0, 0, 0, 0, 0],\n",
              "       [0, 0, 0, 0, 0, 0, 0, 0],\n",
              "       [0, 0, 0, 0, 0, 0, 0, 0],\n",
              "       [0, 0, 0, 0, 0, 0, 0, 0],\n",
              "       [0, 0, 0, 0, 0, 0, 0, 0],\n",
              "       [0, 0, 0, 0, 0, 0, 0, 0],\n",
              "       [0, 0, 0, 0, 0, 0, 0, 0]])"
            ]
          },
          "metadata": {},
          "execution_count": 5
        }
      ]
    },
    {
      "cell_type": "code",
      "source": [
        "r[1::2,::2] = 1\n",
        "r[::2,1::2] = 1\n",
        "r"
      ],
      "metadata": {
        "colab": {
          "base_uri": "https://localhost:8080/"
        },
        "id": "kaXmu09Hx2uB",
        "outputId": "059ec2a0-f874-4ae9-e001-9b5db840c1be"
      },
      "execution_count": null,
      "outputs": [
        {
          "output_type": "execute_result",
          "data": {
            "text/plain": [
              "array([[0, 1, 0, 1, 0, 1, 0, 1],\n",
              "       [1, 0, 1, 0, 1, 0, 1, 0],\n",
              "       [0, 1, 0, 1, 0, 1, 0, 1],\n",
              "       [1, 0, 1, 0, 1, 0, 1, 0],\n",
              "       [0, 1, 0, 1, 0, 1, 0, 1],\n",
              "       [1, 0, 1, 0, 1, 0, 1, 0],\n",
              "       [0, 1, 0, 1, 0, 1, 0, 1],\n",
              "       [1, 0, 1, 0, 1, 0, 1, 0]])"
            ]
          },
          "metadata": {},
          "execution_count": 6
        }
      ]
    },
    {
      "cell_type": "markdown",
      "source": [
        "***Задача 3***"
      ],
      "metadata": {
        "id": "dboQS6mmyG8e"
      }
    },
    {
      "cell_type": "code",
      "source": [
        "x = np.arange(0,1.5,0.1)\n",
        "y = np.arange(1,7)\n",
        "print(x)\n",
        "print(y)"
      ],
      "metadata": {
        "colab": {
          "base_uri": "https://localhost:8080/"
        },
        "id": "9mldTzjcyTis",
        "outputId": "cb954fa8-63a2-47db-c95a-a1a4be18705a"
      },
      "execution_count": null,
      "outputs": [
        {
          "output_type": "stream",
          "name": "stdout",
          "text": [
            "[0.  0.1 0.2 0.3 0.4 0.5 0.6 0.7 0.8 0.9 1.  1.1 1.2 1.3 1.4]\n",
            "[1 2 3 4 5 6]\n"
          ]
        }
      ]
    },
    {
      "cell_type": "code",
      "source": [
        "x1 = x.reshape(5,3)\n",
        "x1"
      ],
      "metadata": {
        "colab": {
          "base_uri": "https://localhost:8080/"
        },
        "id": "QeKLmifw1cH4",
        "outputId": "edddc2a9-2cb8-48a8-d650-79f0d47eef42"
      },
      "execution_count": null,
      "outputs": [
        {
          "output_type": "execute_result",
          "data": {
            "text/plain": [
              "array([[0. , 0.1, 0.2],\n",
              "       [0.3, 0.4, 0.5],\n",
              "       [0.6, 0.7, 0.8],\n",
              "       [0.9, 1. , 1.1],\n",
              "       [1.2, 1.3, 1.4]])"
            ]
          },
          "metadata": {},
          "execution_count": 8
        }
      ]
    },
    {
      "cell_type": "code",
      "source": [
        "y1=y.reshape(3,2)\n",
        "y1"
      ],
      "metadata": {
        "colab": {
          "base_uri": "https://localhost:8080/"
        },
        "id": "KVTA3i4M10sd",
        "outputId": "4e96605e-194d-4aa0-9d5d-ef1f9ec30c98"
      },
      "execution_count": null,
      "outputs": [
        {
          "output_type": "execute_result",
          "data": {
            "text/plain": [
              "array([[1, 2],\n",
              "       [3, 4],\n",
              "       [5, 6]])"
            ]
          },
          "metadata": {},
          "execution_count": 9
        }
      ]
    },
    {
      "cell_type": "code",
      "source": [
        "res = np.matmul(x1, y1)\n",
        "res"
      ],
      "metadata": {
        "colab": {
          "base_uri": "https://localhost:8080/"
        },
        "id": "OrPTwXcr15ku",
        "outputId": "76ee9465-6f3b-44d8-c03d-ce3682bd7782"
      },
      "execution_count": null,
      "outputs": [
        {
          "output_type": "execute_result",
          "data": {
            "text/plain": [
              "array([[ 1.3,  1.6],\n",
              "       [ 4. ,  5.2],\n",
              "       [ 6.7,  8.8],\n",
              "       [ 9.4, 12.4],\n",
              "       [12.1, 16. ]])"
            ]
          },
          "metadata": {},
          "execution_count": 10
        }
      ]
    },
    {
      "cell_type": "markdown",
      "source": [
        "***Задача 4***"
      ],
      "metadata": {
        "id": "UAzqBnvN4x0l"
      }
    },
    {
      "cell_type": "code",
      "source": [
        "q = np.arange(start=1, step = 2, stop = 73, dtype='int32')\n",
        "q"
      ],
      "metadata": {
        "colab": {
          "base_uri": "https://localhost:8080/"
        },
        "id": "Pe0wZVmZ41tr",
        "outputId": "cdd53025-7344-43f5-8d70-9cd57114dadb"
      },
      "execution_count": null,
      "outputs": [
        {
          "output_type": "execute_result",
          "data": {
            "text/plain": [
              "array([ 1,  3,  5,  7,  9, 11, 13, 15, 17, 19, 21, 23, 25, 27, 29, 31, 33,\n",
              "       35, 37, 39, 41, 43, 45, 47, 49, 51, 53, 55, 57, 59, 61, 63, 65, 67,\n",
              "       69, 71], dtype=int32)"
            ]
          },
          "metadata": {},
          "execution_count": 11
        }
      ]
    },
    {
      "cell_type": "code",
      "source": [
        "newArr = q[q % 3 == 0]\n",
        "newArr"
      ],
      "metadata": {
        "colab": {
          "base_uri": "https://localhost:8080/"
        },
        "id": "HlmUQnze6Cta",
        "outputId": "4e387566-1a65-4d53-8417-f9ab1f40ee8f"
      },
      "execution_count": null,
      "outputs": [
        {
          "output_type": "execute_result",
          "data": {
            "text/plain": [
              "array([ 3,  9, 15, 21, 27, 33, 39, 45, 51, 57, 63, 69], dtype=int32)"
            ]
          },
          "metadata": {},
          "execution_count": 12
        }
      ]
    }
  ]
}